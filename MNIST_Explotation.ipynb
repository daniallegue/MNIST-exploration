{
 "cells": [
  {
   "cell_type": "markdown",
   "metadata": {
    "nbgrader": {
     "grade": false,
     "grade_id": "cell-edb192a51f1f59eb",
     "locked": true,
     "schema_version": 3,
     "solution": false,
     "task": false
    }
   },
   "source": [
    "# CSE2510 Bonus Assignment \n",
    "## Exploring the MNIST dataset"
   ]
  },
  {
   "cell_type": "markdown",
   "metadata": {
    "nbgrader": {
     "grade": false,
     "grade_id": "cell-38f8678948c37099",
     "locked": true,
     "schema_version": 3,
     "solution": false,
     "task": false
    }
   },
   "source": [
    "## 3 Introductory questions"
   ]
  },
  {
   "cell_type": "markdown",
   "metadata": {
    "nbgrader": {
     "grade": false,
     "grade_id": "cell-e4df2277d5d55989",
     "locked": true,
     "schema_version": 3,
     "solution": false,
     "task": false
    }
   },
   "source": [
    "#### Question 1:"
   ]
  },
  {
   "cell_type": "markdown",
   "metadata": {},
   "source": [
    "1. GaussianNB: The training procedure is fast and simple, however, it needs large amounts of data to perform reasonably.\n",
    "2. Linear Discriminant Analysis: Again, it is fast and simple to train, but it only works on the assumption that data is normally distributed. \n",
    "3. KNN: It is highly adaptable to several datasets since the distance metric can be adjusted to fit several types of data. However, it is easy to overfit due to the sensibility of outliers with the distace metric.\n",
    "4. Logistic Regression: Can be used to measure the weights of the decision in each of the 2 directions. However, it cannot fit data with non-linear relationships. \n",
    "5. Support Vector Machines: It allows us to generate a classifier with a margin of separation between both classes. Due to this reason, it does not work well whenever data has higher entropy (i.e. both classes are mixed together). \n",
    "6. Decision Trees: It works with really varied types of datasets since it requires no assumptions about data. Due to this, it is also really easy to overfit since it tends to create unnecessary nodes."
   ]
  },
  {
   "cell_type": "markdown",
   "metadata": {},
   "source": [
    "#### Question 2:"
   ]
  },
  {
   "cell_type": "markdown",
   "metadata": {
    "collapsed": true
   },
   "source": [
    "1. LDA: n_components -> less likely\n",
    "2. KNN: n_neighbors -> less likely, p -> no effect\n",
    "3. SGDClassifier: alpha -> less-likely, eta0 -> no effect since it is later adjusted, penalty -> 'l2' leads to less overfitting, max_iter -> more-likely \n",
    "4. SVC: C -> less likely, degree -> more likely if not properly regularized\n",
    "5. Decision Tree: max_depth -> more likely, min_samples_leaf -> less likely"
   ]
  },
  {
   "cell_type": "markdown",
   "metadata": {
    "nbgrader": {
     "grade": false,
     "grade_id": "cell-1b099224fae6a999",
     "locked": true,
     "schema_version": 3,
     "solution": false,
     "task": false
    }
   },
   "source": [
    "### Imports"
   ]
  },
  {
   "cell_type": "code",
   "execution_count": 1,
   "metadata": {
    "collapsed": true
   },
   "outputs": [],
   "source": [
    "import numpy as np\n",
    "import pandas as pd\n",
    "\n",
    "from sklearn.naive_bayes import GaussianNB\n",
    "from sklearn.discriminant_analysis import LinearDiscriminantAnalysis\n",
    "from sklearn.neighbors import KNeighborsClassifier\n",
    "from sklearn.linear_model import SGDClassifier\n",
    "from sklearn.svm import SVC\n",
    "from sklearn.tree import DecisionTreeClassifier\n",
    "from sklearn.model_selection import GridSearchCV\n",
    "from sklearn.preprocessing import StandardScaler\n",
    "from sklearn.metrics import confusion_matrix\n",
    "import time\n",
    "\n",
    "import matplotlib.pyplot as plt"
   ]
  },
  {
   "cell_type": "markdown",
   "metadata": {
    "nbgrader": {
     "grade": false,
     "grade_id": "cell-27453141f8aa1fdd",
     "locked": true,
     "schema_version": 3,
     "solution": false,
     "task": false
    }
   },
   "source": [
    "### Load data"
   ]
  },
  {
   "cell_type": "code",
   "execution_count": 2,
   "metadata": {
    "collapsed": true
   },
   "outputs": [],
   "source": [
    "# These are your training samples along with their labels\n",
    "mnist_8x8_train = np.load(\"data/mnist_8x8_train.npy\")\n",
    "mnist_28x28_train = np.load(\"data/mnist_28x28_train.npy\")\n",
    "\n",
    "# The labels for 8x8 and 28x28 samples are identical\n",
    "mnist_28x28_labels = np.load(\"data/mnist_labels.npy\")\n",
    "\n",
    "# These are unknown instances that you should classify\n",
    "mnist_unknown = np.load(\"data/mnist_28x28_unknown.npy\") # If you are using the 28x28 samples\n",
    "#mnist_unknown = np.load(\"data/mnist_8x8_unknown.npy\") # If you are using the 28x28 samples"
   ]
  },
  {
   "cell_type": "markdown",
   "metadata": {},
   "source": [
    "## 4 MNIST"
   ]
  },
  {
   "cell_type": "markdown",
   "metadata": {
    "nbgrader": {
     "grade": false,
     "grade_id": "cell-b5c104b8ccefc394",
     "locked": true,
     "schema_version": 3,
     "solution": false,
     "task": false
    }
   },
   "source": [
    "###  4.1 Data exploration"
   ]
  },
  {
   "cell_type": "markdown",
   "metadata": {
    "nbgrader": {
     "grade": false,
     "grade_id": "cell-201f3e0d1bc5fd27",
     "locked": true,
     "points": 1,
     "schema_version": 3,
     "solution": false,
     "task": true
    }
   },
   "source": [
    "#### Question 3:"
   ]
  },
  {
   "cell_type": "code",
   "execution_count": 3,
   "metadata": {},
   "outputs": [
    {
     "data": {
      "text/plain": [
       "array([0, 1, 2, 3, 4, 5, 6, 7, 8, 9])"
      ]
     },
     "execution_count": 3,
     "metadata": {},
     "output_type": "execute_result"
    }
   ],
   "source": [
    "np.unique(mnist_28x28_labels)"
   ]
  },
  {
   "cell_type": "markdown",
   "metadata": {},
   "source": [
    "#### Question 4:"
   ]
  },
  {
   "cell_type": "code",
   "execution_count": 5,
   "metadata": {},
   "outputs": [
    {
     "data": {
      "text/plain": [
       "(array([0, 1, 2, 3, 4, 5, 6, 7, 8, 9]),\n",
       " array([395, 376, 367, 378, 388, 366, 371, 366, 366, 377]))"
      ]
     },
     "execution_count": 5,
     "metadata": {},
     "output_type": "execute_result"
    }
   ],
   "source": [
    "values, counts = np.unique(mnist_28x28_labels, return_counts = True)\n",
    "values, counts"
   ]
  },
  {
   "cell_type": "markdown",
   "metadata": {},
   "source": [
    "The first array represents the value of each class, the second represents the number of values in each class respectively. "
   ]
  },
  {
   "cell_type": "markdown",
   "metadata": {},
   "source": [
    "#### Question 5:"
   ]
  },
  {
   "cell_type": "code",
   "execution_count": 6,
   "metadata": {},
   "outputs": [
    {
     "data": {
      "text/plain": [
       "0.10533333333333333"
      ]
     },
     "execution_count": 6,
     "metadata": {},
     "output_type": "execute_result"
    }
   ],
   "source": [
    "from sklearn.dummy import DummyClassifier\n",
    "\n",
    "dummyCl = DummyClassifier(strategy='most_frequent', random_state=0)\n",
    "dummyCl.fit(mnist_28x28_train, mnist_28x28_labels)\n",
    "dummyCl.score(mnist_8x8_train, mnist_28x28_labels)"
   ]
  },
  {
   "cell_type": "markdown",
   "metadata": {},
   "source": [
    "Therefore, we must expect a higher accuracy than 10.5% on the training dataset. "
   ]
  },
  {
   "cell_type": "markdown",
   "metadata": {
    "nbgrader": {
     "grade": false,
     "grade_id": "cell-bb28c4f501ea54a7",
     "locked": true,
     "points": 1,
     "schema_version": 3,
     "solution": false,
     "task": true
    }
   },
   "source": [
    "#### Question 6:"
   ]
  },
  {
   "cell_type": "code",
   "execution_count": 4,
   "metadata": {},
   "outputs": [
    {
     "data": {
      "image/png": "[encoded data removed]",
      "text/plain": [
       "<Figure size 432x288 with 1 Axes>"
      ]
     },
     "metadata": {
      "needs_background": "light"
     },
     "output_type": "display_data"
    },
    {
     "data": {
      "image/png": "[encoded data removed]",
      "text/plain": [
       "<Figure size 432x288 with 1 Axes>"
      ]
     },
     "metadata": {
      "needs_background": "light"
     },
     "output_type": "display_data"
    },
    {
     "data": {
      "image/png": "[encoded data removed]",
      "text/plain": [
       "<Figure size 432x288 with 1 Axes>"
      ]
     },
     "metadata": {
      "needs_background": "light"
     },
     "output_type": "display_data"
    },
    {
     "data": {
      "image/png": "[encoded data removed]",
      "text/plain": [
       "<Figure size 432x288 with 1 Axes>"
      ]
     },
     "metadata": {
      "needs_background": "light"
     },
     "output_type": "display_data"
    },
    {
     "data": {
      "image/png": "[encoded data removed]",
      "text/plain": [
       "<Figure size 432x288 with 1 Axes>"
      ]
     },
     "metadata": {
      "needs_background": "light"
     },
     "output_type": "display_data"
    },
    {
     "data": {
      "image/png": "[encoded data removed]",
      "text/plain": [
       "<Figure size 432x288 with 1 Axes>"
      ]
     },
     "metadata": {
      "needs_background": "light"
     },
     "output_type": "display_data"
    },
    {
     "data": {
      "image/png": "[encoded data removed]",
      "text/plain": [
       "<Figure size 432x288 with 1 Axes>"
      ]
     },
     "metadata": {
      "needs_background": "light"
     },
     "output_type": "display_data"
    },
    {
     "data": {
      "image/png": "[encoded data removed]",
      "text/plain": [
       "<Figure size 432x288 with 1 Axes>"
      ]
     },
     "metadata": {
      "needs_background": "light"
     },
     "output_type": "display_data"
    },
    {
     "data": {
      "image/png": "[encoded data removed]",
      "text/plain": [
       "<Figure size 432x288 with 1 Axes>"
      ]
     },
     "metadata": {
      "needs_background": "light"
     },
     "output_type": "display_data"
    },
    {
     "data": {
      "image/png": "[encoded data removed]",
      "text/plain": [
       "<Figure size 432x288 with 1 Axes>"
      ]
     },
     "metadata": {
      "needs_background": "light"
     },
     "output_type": "display_data"
    },
    {
     "data": {
      "image/png": "[encoded data removed]",
      "text/plain": [
       "<Figure size 432x288 with 1 Axes>"
      ]
     },
     "metadata": {
      "needs_background": "light"
     },
     "output_type": "display_data"
    },
    {
     "data": {
      "image/png": "[encoded data removed]",
      "text/plain": [
       "<Figure size 432x288 with 1 Axes>"
      ]
     },
     "metadata": {
      "needs_background": "light"
     },
     "output_type": "display_data"
    },
    {
     "data": {
      "image/png": "[encoded data removed]",
      "text/plain": [
       "<Figure size 432x288 with 1 Axes>"
      ]
     },
     "metadata": {
      "needs_background": "light"
     },
     "output_type": "display_data"
    },
    {
     "data": {
      "image/png": "[encoded data removed]",
      "text/plain": [
       "<Figure size 432x288 with 1 Axes>"
      ]
     },
     "metadata": {
      "needs_background": "light"
     },
     "output_type": "display_data"
    },
    {
     "data": {
      "image/png": "[encoded data removed]",
      "text/plain": [
       "<Figure size 432x288 with 1 Axes>"
      ]
     },
     "metadata": {
      "needs_background": "light"
     },
     "output_type": "display_data"
    },
    {
     "data": {
      "image/png": "[encoded data removed]",
      "text/plain": [
       "<Figure size 432x288 with 1 Axes>"
      ]
     },
     "metadata": {
      "needs_background": "light"
     },
     "output_type": "display_data"
    },
    {
     "data": {
      "image/png": "[encoded data removed]",
      "text/plain": [
       "<Figure size 432x288 with 1 Axes>"
      ]
     },
     "metadata": {
      "needs_background": "light"
     },
     "output_type": "display_data"
    },
    {
     "data": {
      "image/png": "[encoded data removed]",
      "text/plain": [
       "<Figure size 432x288 with 1 Axes>"
      ]
     },
     "metadata": {
      "needs_background": "light"
     },
     "output_type": "display_data"
    },
    {
     "data": {
      "image/png": "[encoded data removed]",
      "text/plain": [
       "<Figure size 432x288 with 1 Axes>"
      ]
     },
     "metadata": {
      "needs_background": "light"
     },
     "output_type": "display_data"
    },
    {
     "data": {
      "image/png": "[encoded data removed]",
      "text/plain": [
       "<Figure size 432x288 with 1 Axes>"
      ]
     },
     "metadata": {
      "needs_background": "light"
     },
     "output_type": "display_data"
    },
    {
     "data": {
      "image/png": "[encoded data removed]",
      "text/plain": [
       "<Figure size 432x288 with 1 Axes>"
      ]
     },
     "metadata": {
      "needs_background": "light"
     },
     "output_type": "display_data"
    },
    {
     "data": {
      "image/png": "[encoded data removed]",
      "text/plain": [
       "<Figure size 432x288 with 1 Axes>"
      ]
     },
     "metadata": {
      "needs_background": "light"
     },
     "output_type": "display_data"
    },
    {
     "data": {
      "image/png": "[encoded data removed]",
      "text/plain": [
       "<Figure size 432x288 with 1 Axes>"
      ]
     },
     "metadata": {
      "needs_background": "light"
     },
     "output_type": "display_data"
    },
    {
     "data": {
      "image/png": "[encoded data removed]",
      "text/plain": [
       "<Figure size 432x288 with 1 Axes>"
      ]
     },
     "metadata": {
      "needs_background": "light"
     },
     "output_type": "display_data"
    },
    {
     "data": {
      "image/png": "[encoded data removed]",
      "text/plain": [
       "<Figure size 432x288 with 1 Axes>"
      ]
     },
     "metadata": {
      "needs_background": "light"
     },
     "output_type": "display_data"
    },
    {
     "data": {
      "image/png": "[encoded data removed]",
      "text/plain": [
       "<Figure size 432x288 with 1 Axes>"
      ]
     },
     "metadata": {
      "needs_background": "light"
     },
     "output_type": "display_data"
    },
    {
     "data": {
      "image/png": "[encoded data removed]",
      "text/plain": [
       "<Figure size 432x288 with 1 Axes>"
      ]
     },
     "metadata": {
      "needs_background": "light"
     },
     "output_type": "display_data"
    },
    {
     "data": {
      "image/png": "[encoded data removed]",
      "text/plain": [
       "<Figure size 432x288 with 1 Axes>"
      ]
     },
     "metadata": {
      "needs_background": "light"
     },
     "output_type": "display_data"
    },
    {
     "data": {
      "image/png": "[encoded data removed]",
      "text/plain": [
       "<Figure size 432x288 with 1 Axes>"
      ]
     },
     "metadata": {
      "needs_background": "light"
     },
     "output_type": "display_data"
    },
    {
     "data": {
      "image/png": "[encoded data removed]",
      "text/plain": [
       "<Figure size 432x288 with 1 Axes>"
      ]
     },
     "metadata": {
      "needs_background": "light"
     },
     "output_type": "display_data"
    },
    {
     "data": {
      "image/png": "[encoded data removed]",
      "text/plain": [
       "<Figure size 432x288 with 1 Axes>"
      ]
     },
     "metadata": {
      "needs_background": "light"
     },
     "output_type": "display_data"
    },
    {
     "data": {
      "image/png": "[encoded data removed]",
      "text/plain": [
       "<Figure size 432x288 with 1 Axes>"
      ]
     },
     "metadata": {
      "needs_background": "light"
     },
     "output_type": "display_data"
    },
    {
     "data": {
      "image/png": "[encoded data removed]",
      "text/plain": [
       "<Figure size 432x288 with 1 Axes>"
      ]
     },
     "metadata": {
      "needs_background": "light"
     },
     "output_type": "display_data"
    },
    {
     "data": {
      "image/png": "[encoded data removed]",
      "text/plain": [
       "<Figure size 432x288 with 1 Axes>"
      ]
     },
     "metadata": {
      "needs_background": "light"
     },
     "output_type": "display_data"
    },
    {
     "data": {
      "image/png": "[encoded data removed]",
      "text/plain": [
       "<Figure size 432x288 with 1 Axes>"
      ]
     },
     "metadata": {
      "needs_background": "light"
     },
     "output_type": "display_data"
    },
    {
     "data": {
      "image/png": "[encoded data removed]",
      "text/plain": [
       "<Figure size 432x288 with 1 Axes>"
      ]
     },
     "metadata": {
      "needs_background": "light"
     },
     "output_type": "display_data"
    },
    {
     "data": {
      "image/png": "[encoded data removed]",
      "text/plain": [
       "<Figure size 432x288 with 1 Axes>"
      ]
     },
     "metadata": {
      "needs_background": "light"
     },
     "output_type": "display_data"
    },
    {
     "data": {
      "image/png": "[encoded data removed]",
      "text/plain": [
       "<Figure size 432x288 with 1 Axes>"
      ]
     },
     "metadata": {
      "needs_background": "light"
     },
     "output_type": "display_data"
    },
    {
     "data": {
      "image/png": "[encoded data removed]",
      "text/plain": [
       "<Figure size 432x288 with 1 Axes>"
      ]
     },
     "metadata": {
      "needs_background": "light"
     },
     "output_type": "display_data"
    },
    {
     "data": {
      "image/png": "[encoded data removed]",
      "text/plain": [
       "<Figure size 432x288 with 1 Axes>"
      ]
     },
     "metadata": {
      "needs_background": "light"
     },
     "output_type": "display_data"
    },
    {
     "data": {
      "image/png": "[encoded data removed]",
      "text/plain": [
       "<Figure size 432x288 with 1 Axes>"
      ]
     },
     "metadata": {
      "needs_background": "light"
     },
     "output_type": "display_data"
    },
    {
     "data": {
      "image/png": "[encoded data removed]",
      "text/plain": [
       "<Figure size 432x288 with 1 Axes>"
      ]
     },
     "metadata": {
      "needs_background": "light"
     },
     "output_type": "display_data"
    },
    {
     "data": {
      "image/png": "[encoded data removed]",
      "text/plain": [
       "<Figure size 432x288 with 1 Axes>"
      ]
     },
     "metadata": {
      "needs_background": "light"
     },
     "output_type": "display_data"
    },
    {
     "data": {
      "image/png": "[encoded data removed]",
      "text/plain": [
       "<Figure size 432x288 with 1 Axes>"
      ]
     },
     "metadata": {
      "needs_background": "light"
     },
     "output_type": "display_data"
    },
    {
     "data": {
      "image/png": "[encoded data removed]",
      "text/plain": [
       "<Figure size 432x288 with 1 Axes>"
      ]
     },
     "metadata": {
      "needs_background": "light"
     },
     "output_type": "display_data"
    },
    {
     "data": {
      "image/png": "[encoded data removed]",
      "text/plain": [
       "<Figure size 432x288 with 1 Axes>"
      ]
     },
     "metadata": {
      "needs_background": "light"
     },
     "output_type": "display_data"
    },
    {
     "data": {
      "image/png": "[encoded data removed]",
      "text/plain": [
       "<Figure size 432x288 with 1 Axes>"
      ]
     },
     "metadata": {
      "needs_background": "light"
     },
     "output_type": "display_data"
    },
    {
     "data": {
      "image/png": "[encoded data removed]",
      "text/plain": [
       "<Figure size 432x288 with 1 Axes>"
      ]
     },
     "metadata": {
      "needs_background": "light"
     },
     "output_type": "display_data"
    },
    {
     "data": {
      "image/png": "[encoded data removed]",
      "text/plain": [
       "<Figure size 432x288 with 1 Axes>"
      ]
     },
     "metadata": {
      "needs_background": "light"
     },
     "output_type": "display_data"
    },
    {
     "data": {
      "image/png": "[encoded data removed]",
      "text/plain": [
       "<Figure size 432x288 with 1 Axes>"
      ]
     },
     "metadata": {
      "needs_background": "light"
     },
     "output_type": "display_data"
    },
    {
     "data": {
      "image/png": "[encoded data removed]",
      "text/plain": [
       "<Figure size 432x288 with 1 Axes>"
      ]
     },
     "metadata": {
      "needs_background": "light"
     },
     "output_type": "display_data"
    },
    {
     "data": {
      "image/png": "[encoded data removed]",
      "text/plain": [
       "<Figure size 432x288 with 1 Axes>"
      ]
     },
     "metadata": {
      "needs_background": "light"
     },
     "output_type": "display_data"
    },
    {
     "data": {
      "image/png": "[encoded data removed]",
      "text/plain": [
       "<Figure size 432x288 with 1 Axes>"
      ]
     },
     "metadata": {
      "needs_background": "light"
     },
     "output_type": "display_data"
    },
    {
     "data": {
      "image/png": "[encoded data removed]",
      "text/plain": [
       "<Figure size 432x288 with 1 Axes>"
      ]
     },
     "metadata": {
      "needs_background": "light"
     },
     "output_type": "display_data"
    },
    {
     "data": {
      "image/png": "[encoded data removed]",
      "text/plain": [
       "<Figure size 432x288 with 1 Axes>"
      ]
     },
     "metadata": {
      "needs_background": "light"
     },
     "output_type": "display_data"
    },
    {
     "data": {
      "image/png": "[encoded data removed]",
      "text/plain": [
       "<Figure size 432x288 with 1 Axes>"
      ]
     },
     "metadata": {
      "needs_background": "light"
     },
     "output_type": "display_data"
    },
    {
     "data": {
      "image/png": "[encoded data removed]",
      "text/plain": [
       "<Figure size 432x288 with 1 Axes>"
      ]
     },
     "metadata": {
      "needs_background": "light"
     },
     "output_type": "display_data"
    },
    {
     "data": {
      "image/png": "[encoded data removed]",
      "text/plain": [
       "<Figure size 432x288 with 1 Axes>"
      ]
     },
     "metadata": {
      "needs_background": "light"
     },
     "output_type": "display_data"
    },
    {
     "data": {
      "image/png": "[encoded data removed]",
      "text/plain": [
       "<Figure size 432x288 with 1 Axes>"
      ]
     },
     "metadata": {
      "needs_background": "light"
     },
     "output_type": "display_data"
    },
    {
     "data": {
      "image/png": "[encoded data removed]",
      "text/plain": [
       "<Figure size 432x288 with 1 Axes>"
      ]
     },
     "metadata": {
      "needs_background": "light"
     },
     "output_type": "display_data"
    },
    {
     "data": {
      "image/png": "[encoded data removed]",
      "text/plain": [
       "<Figure size 432x288 with 1 Axes>"
      ]
     },
     "metadata": {
      "needs_background": "light"
     },
     "output_type": "display_data"
    },
    {
     "data": {
      "image/png": "[encoded data removed]",
      "text/plain": [
       "<Figure size 432x288 with 1 Axes>"
      ]
     },
     "metadata": {
      "needs_background": "light"
     },
     "output_type": "display_data"
    },
    {
     "data": {
      "image/png": "[encoded data removed]",
      "text/plain": [
       "<Figure size 432x288 with 1 Axes>"
      ]
     },
     "metadata": {
      "needs_background": "light"
     },
     "output_type": "display_data"
    },
    {
     "data": {
      "image/png": "[encoded data removed]",
      "text/plain": [
       "<Figure size 432x288 with 1 Axes>"
      ]
     },
     "metadata": {
      "needs_background": "light"
     },
     "output_type": "display_data"
    },
    {
     "data": {
      "image/png": "[encoded data removed]",
      "text/plain": [
       "<Figure size 432x288 with 1 Axes>"
      ]
     },
     "metadata": {
      "needs_background": "light"
     },
     "output_type": "display_data"
    },
    {
     "data": {
      "image/png": "[encoded data removed]",
      "text/plain": [
       "<Figure size 432x288 with 1 Axes>"
      ]
     },
     "metadata": {
      "needs_background": "light"
     },
     "output_type": "display_data"
    },
    {
     "data": {
      "image/png": "[encoded data removed]",
      "text/plain": [
       "<Figure size 432x288 with 1 Axes>"
      ]
     },
     "metadata": {
      "needs_background": "light"
     },
     "output_type": "display_data"
    },
    {
     "data": {
      "image/png": "[encoded data removed]",
      "text/plain": [
       "<Figure size 432x288 with 1 Axes>"
      ]
     },
     "metadata": {
      "needs_background": "light"
     },
     "output_type": "display_data"
    },
    {
     "data": {
      "image/png": "[encoded data removed]",
      "text/plain": [
       "<Figure size 432x288 with 1 Axes>"
      ]
     },
     "metadata": {
      "needs_background": "light"
     },
     "output_type": "display_data"
    },
    {
     "data": {
      "image/png": "[encoded data removed]",
      "text/plain": [
       "<Figure size 432x288 with 1 Axes>"
      ]
     },
     "metadata": {
      "needs_background": "light"
     },
     "output_type": "display_data"
    },
    {
     "data": {
      "image/png": "[encoded data removed]",
      "text/plain": [
       "<Figure size 432x288 with 1 Axes>"
      ]
     },
     "metadata": {
      "needs_background": "light"
     },
     "output_type": "display_data"
    },
    {
     "data": {
      "image/png": "[encoded data removed]",
      "text/plain": [
       "<Figure size 432x288 with 1 Axes>"
      ]
     },
     "metadata": {
      "needs_background": "light"
     },
     "output_type": "display_data"
    },
    {
     "data": {
      "image/png": "[encoded data removed]",
      "text/plain": [
       "<Figure size 432x288 with 1 Axes>"
      ]
     },
     "metadata": {
      "needs_background": "light"
     },
     "output_type": "display_data"
    },
    {
     "data": {
      "image/png": "[encoded data removed]",
      "text/plain": [
       "<Figure size 432x288 with 1 Axes>"
      ]
     },
     "metadata": {
      "needs_background": "light"
     },
     "output_type": "display_data"
    },
    {
     "data": {
      "image/png": "[encoded data removed]",
      "text/plain": [
       "<Figure size 432x288 with 1 Axes>"
      ]
     },
     "metadata": {
      "needs_background": "light"
     },
     "output_type": "display_data"
    },
    {
     "data": {
      "image/png": "[encoded data removed]",
      "text/plain": [
       "<Figure size 432x288 with 1 Axes>"
      ]
     },
     "metadata": {
      "needs_background": "light"
     },
     "output_type": "display_data"
    },
    {
     "data": {
      "image/png": "[encoded data removed]",
      "text/plain": [
       "<Figure size 432x288 with 1 Axes>"
      ]
     },
     "metadata": {
      "needs_background": "light"
     },
     "output_type": "display_data"
    },
    {
     "data": {
      "image/png": "[encoded data removed]",
      "text/plain": [
       "<Figure size 432x288 with 1 Axes>"
      ]
     },
     "metadata": {
      "needs_background": "light"
     },
     "output_type": "display_data"
    },
    {
     "data": {
      "image/png": "[encoded data removed]",
      "text/plain": [
       "<Figure size 432x288 with 1 Axes>"
      ]
     },
     "metadata": {
      "needs_background": "light"
     },
     "output_type": "display_data"
    },
    {
     "data": {
      "image/png": "[encoded data removed]",
      "text/plain": [
       "<Figure size 432x288 with 1 Axes>"
      ]
     },
     "metadata": {
      "needs_background": "light"
     },
     "output_type": "display_data"
    },
    {
     "data": {
      "image/png": "[encoded data removed]",
      "text/plain": [
       "<Figure size 432x288 with 1 Axes>"
      ]
     },
     "metadata": {
      "needs_background": "light"
     },
     "output_type": "display_data"
    },
    {
     "data": {
      "image/png": "[encoded data removed]",
      "text/plain": [
       "<Figure size 432x288 with 1 Axes>"
      ]
     },
     "metadata": {
      "needs_background": "light"
     },
     "output_type": "display_data"
    },
    {
     "data": {
      "image/png": "[encoded data removed]",
      "text/plain": [
       "<Figure size 432x288 with 1 Axes>"
      ]
     },
     "metadata": {
      "needs_background": "light"
     },
     "output_type": "display_data"
    },
    {
     "data": {
      "image/png": "[encoded data removed]",
      "text/plain": [
       "<Figure size 432x288 with 1 Axes>"
      ]
     },
     "metadata": {
      "needs_background": "light"
     },
     "output_type": "display_data"
    },
    {
     "data": {
      "image/png": "[encoded data removed]",
      "text/plain": [
       "<Figure size 432x288 with 1 Axes>"
      ]
     },
     "metadata": {
      "needs_background": "light"
     },
     "output_type": "display_data"
    },
    {
     "data": {
      "image/png": "[encoded data removed]",
      "text/plain": [
       "<Figure size 432x288 with 1 Axes>"
      ]
     },
     "metadata": {
      "needs_background": "light"
     },
     "output_type": "display_data"
    },
    {
     "data": {
      "image/png": "[encoded data removed]",
      "text/plain": [
       "<Figure size 432x288 with 1 Axes>"
      ]
     },
     "metadata": {
      "needs_background": "light"
     },
     "output_type": "display_data"
    },
    {
     "data": {
      "image/png": "[encoded data removed]",
      "text/plain": [
       "<Figure size 432x288 with 1 Axes>"
      ]
     },
     "metadata": {
      "needs_background": "light"
     },
     "output_type": "display_data"
    },
    {
     "data": {
      "image/png": "[encoded data removed]",
      "text/plain": [
       "<Figure size 432x288 with 1 Axes>"
      ]
     },
     "metadata": {
      "needs_background": "light"
     },
     "output_type": "display_data"
    },
    {
     "data": {
      "image/png": "[encoded data removed]",
      "text/plain": [
       "<Figure size 432x288 with 1 Axes>"
      ]
     },
     "metadata": {
      "needs_background": "light"
     },
     "output_type": "display_data"
    },
    {
     "data": {
      "image/png": "[encoded data removed]",
      "text/plain": [
       "<Figure size 432x288 with 1 Axes>"
      ]
     },
     "metadata": {
      "needs_background": "light"
     },
     "output_type": "display_data"
    },
    {
     "data": {
      "image/png": "[encoded data removed]",
      "text/plain": [
       "<Figure size 432x288 with 1 Axes>"
      ]
     },
     "metadata": {
      "needs_background": "light"
     },
     "output_type": "display_data"
    },
    {
     "data": {
      "image/png": "[encoded data removed]",
      "text/plain": [
       "<Figure size 432x288 with 1 Axes>"
      ]
     },
     "metadata": {
      "needs_background": "light"
     },
     "output_type": "display_data"
    },
    {
     "data": {
      "image/png": "[encoded data removed]",
      "text/plain": [
       "<Figure size 432x288 with 1 Axes>"
      ]
     },
     "metadata": {
      "needs_background": "light"
     },
     "output_type": "display_data"
    },
    {
     "data": {
      "image/png": "[encoded data removed]",
      "text/plain": [
       "<Figure size 432x288 with 1 Axes>"
      ]
     },
     "metadata": {
      "needs_background": "light"
     },
     "output_type": "display_data"
    },
    {
     "data": {
      "image/png": "[encoded data removed]",
      "text/plain": [
       "<Figure size 432x288 with 1 Axes>"
      ]
     },
     "metadata": {
      "needs_background": "light"
     },
     "output_type": "display_data"
    },
    {
     "data": {
      "image/png": "[encoded data removed]",
      "text/plain": [
       "<Figure size 432x288 with 1 Axes>"
      ]
     },
     "metadata": {
      "needs_background": "light"
     },
     "output_type": "display_data"
    },
    {
     "data": {
      "image/png": "[encoded data removed]",
      "text/plain": [
       "<Figure size 432x288 with 1 Axes>"
      ]
     },
     "metadata": {
      "needs_background": "light"
     },
     "output_type": "display_data"
    },
    {
     "data": {
      "image/png": "[encoded data removed]",
      "text/plain": [
       "<Figure size 432x288 with 1 Axes>"
      ]
     },
     "metadata": {
      "needs_background": "light"
     },
     "output_type": "display_data"
    },
    {
     "data": {
      "image/png": "[encoded data removed]",
      "text/plain": [
       "<Figure size 432x288 with 1 Axes>"
      ]
     },
     "metadata": {
      "needs_background": "light"
     },
     "output_type": "display_data"
    }
   ],
   "source": [
    "first50 = mnist_8x8_train[:50]\n",
    "second50 = mnist_28x28_train[:50]\n",
    "for i in range(50):\n",
    "    plt.imshow(second50[i])  \n",
    "    plt.show()\n",
    "    plt.imshow(first50[i])\n",
    "    plt.show()"
   ]
  },
  {
   "cell_type": "markdown",
   "metadata": {},
   "source": [
    "The 28x28 dataset will yield a better classifier accuracy, given that the resolution of the digits is clearer. "
   ]
  },
  {
   "cell_type": "markdown",
   "metadata": {},
   "source": [
    "#### Question 7:"
   ]
  },
  {
   "cell_type": "markdown",
   "metadata": {},
   "source": [
    "Yes, we believe that we could correctly classify all of the digits ourselves. If we use the digits in the 28 x 28 resolution, we believe that all of the digits are clearly differentiable from each other, and that a good classifier should be able to distinguish the features present on each digit. Therefore, the Bayes classifier (i.e, the optimal classifier) would yield a Bayes error of 0. "
   ]
  },
  {
   "cell_type": "markdown",
   "metadata": {
    "nbgrader": {
     "grade": false,
     "grade_id": "cell-588e1cb1b099de66",
     "locked": true,
     "schema_version": 3,
     "solution": false,
     "task": false
    }
   },
   "source": [
    "###  4.2 Data preparation"
   ]
  },
  {
   "cell_type": "markdown",
   "metadata": {},
   "source": [
    "#### Question 8:"
   ]
  },
  {
   "cell_type": "markdown",
   "metadata": {},
   "source": [
    "The current dataset has no missing values (NaN), only values in the range of (0, 255), representing a pixel. Also, all of our data is continuous, since all of our values in our matrices are in digits. The only 2 preprocessing techniques that would be sensible to apply would be getting a dense matrix, as our matrices are currently sparse. However, as our data represents pixels in an image, we need to leave the matrices to preserve the features present in the digits. The other preprocessing technique, which we actual applied, was to scale all of our data in the range [0, 1] by dividing by 255.0 or by using mean unit-variance standard scaling."
   ]
  },
  {
   "cell_type": "markdown",
   "metadata": {
    "nbgrader": {
     "grade": false,
     "grade_id": "cell-e349c471ecee1c3c",
     "locked": true,
     "points": 1,
     "schema_version": 3,
     "solution": false,
     "task": true
    }
   },
   "source": [
    "#### Question 9:"
   ]
  },
  {
   "cell_type": "code",
   "execution_count": 3,
   "metadata": {},
   "outputs": [
    {
     "name": "stdout",
     "output_type": "stream",
     "text": [
      "[ 0.          0.          0.          0.          0.          0.\n",
      "  0.          0.          0.          0.          0.          0.\n",
      "  0.          0.          0.          0.          0.          0.\n",
      "  0.          0.          0.          0.          0.          0.\n",
      "  0.          0.          0.          0.          0.          0.\n",
      "  0.          0.          0.          0.         -0.01633211 -0.01633211\n",
      " -0.01633211 -0.02520936 -0.03243202 -0.02979463 -0.02750369 -0.03182954\n",
      " -0.04015578 -0.03407556 -0.02743523 -0.02341448 -0.02028728 -0.02396114\n",
      " -0.02133883 -0.01921893  0.          0.          0.          0.\n",
      "  0.          0.          0.          0.          0.          0.\n",
      "  0.          0.         -0.01995209 -0.02306678 -0.02861906 -0.05766957\n",
      " -0.07425732 -0.09153095 -0.10065307 -0.11165694 -0.12081053 -0.13100052\n",
      " -0.13606759 -0.1342626  -0.12166562 -0.09567727 -0.07993508 -0.06180935\n",
      " -0.04902423 -0.03377007 -0.01633211 -0.01633211  0.          0.\n",
      "  0.          0.          0.          0.         -0.01633211 -0.0170735\n",
      " -0.04016862 -0.05817511 -0.0874479  -0.11702536 -0.1433382  -0.17464074\n",
      " -0.19399556 -0.21682459 -0.24155449 -0.26145018 -0.26501765 -0.25361596\n",
      " -0.22687731 -0.18346136 -0.15265724 -0.10970929 -0.08183896 -0.05381867\n",
      " -0.03838197 -0.02351466 -0.01633211  0.          0.          0.\n",
      " -0.01633211 -0.02163935 -0.02326291 -0.05095467 -0.0800603  -0.11589193\n",
      " -0.16025656 -0.21740339 -0.27812098 -0.32865434 -0.39351223 -0.44889721\n",
      " -0.4944067  -0.52004887 -0.51410461 -0.48108146 -0.42327078 -0.35685565\n",
      " -0.28005518 -0.21486326 -0.15705035 -0.09819902 -0.07061794 -0.04195277\n",
      " -0.02286149  0.          0.          0.         -0.01633211 -0.02065318\n",
      " -0.0450061  -0.08941699 -0.13603691 -0.19095914 -0.26065714 -0.34447114\n",
      " -0.43022523 -0.51606977 -0.61552296 -0.71472576 -0.79136291 -0.81586754\n",
      " -0.81604083 -0.7704228  -0.03271871  2.25854332  2.8592294   0.66833273\n",
      " -0.26446158 -0.18460276 -0.12938845 -0.08299226 -0.0521682  -0.01633211\n",
      "  0.          0.          0.         -0.03078496 -0.07006973 -0.13152917\n",
      " -0.19171766 -0.27283281 -0.36520697 -0.4703137  -0.57452027 -0.70139093\n",
      " -0.84364198 -0.96351458 -1.04887304 -1.09551687 -1.07924428 -1.0145318\n",
      "  1.41798055  1.694628    2.11921138  0.35660394 -0.34462463 -0.24214117\n",
      " -0.17479414 -0.10714334 -0.06329328 -0.02384279 -0.01633211 -0.01641742\n",
      " -0.01734553 -0.05210067 -0.10541566 -0.17382563 -0.25115324 -0.34762541\n",
      " -0.45952269 -0.58503667 -0.72991902 -0.87638364 -1.01108771 -1.1333454\n",
      " -1.21114836 -1.23937265 -1.23028319  1.12616007  1.23041946  1.4540635\n",
      "  1.19268357 -0.53266339 -0.40274667 -0.283539   -0.19921448 -0.12543099\n",
      " -0.05744787 -0.02791605 -0.01633211 -0.0168441  -0.04133694 -0.08549969\n",
      " -0.1316539  -0.20173519 -0.29479545 -0.39789384 -0.53146158 -0.68072296\n",
      " -0.84437411 -0.98331314 -1.07257466 -1.10508966 -1.10873375 -1.09833971\n",
      " -1.11250176  1.17210811  1.21042671  1.36529789 -0.12602268 -0.56467978\n",
      " -0.42804981 -0.29940839 -0.20580961 -0.12412963 -0.05444797 -0.02037157\n",
      " -0.01633211 -0.02601024 -0.05259929 -0.09632916 -0.14363956 -0.21464079\n",
      " -0.32284793 -0.43673576 -0.58238719 -0.74791279 -0.90268536 -0.99990688\n",
      " -1.00467982 -0.95081758 -0.91007911 -0.3331863   0.77296131  1.27792694\n",
      "  1.26796124  0.25224964 -0.73862357 -0.56943369 -0.42760214 -0.29950898\n",
      " -0.18815785 -0.11522215 -0.05605231 -0.01647994  0.         -0.02795457\n",
      " -0.0459343  -0.0904276  -0.14241074 -0.21777732 -0.32576595 -0.45693703\n",
      " -0.61679584 -0.78565125 -0.9170026  -0.95050623 -0.88525617 -0.80730531\n",
      " -0.77945879  1.03616425  1.49620296  1.34649152  0.74505894 -0.28067189\n",
      " -0.70425779 -0.53679846 -0.39862689 -0.27720995 -0.15637687 -0.08175233\n",
      " -0.03878565 -0.01633211  0.         -0.02210573 -0.0480338  -0.07892557\n",
      " -0.12657109 -0.21548213 -0.33210981 -0.47834675 -0.64754899 -0.82416772\n",
      " -0.91312527 -0.88845787 -0.79108113 -0.74530551 -0.73308645  1.63640722\n",
      "  1.44691946  1.31453907  0.18731258 -0.82253074 -0.6459798  -0.49768725\n",
      " -0.36373281 -0.2559153  -0.14086998 -0.06645874 -0.03003794 -0.01633211\n",
      "  0.         -0.01633211 -0.03322005 -0.07040796 -0.11411982 -0.21152302\n",
      " -0.34513342 -0.50684024 -0.6907026  -0.84822947 -0.91356418 -0.85768728\n",
      " -0.7792184  -0.7776763   1.56620331  1.41883959  1.28407948  0.64309285\n",
      " -0.97610927 -0.79176254 -0.61483795 -0.46811408 -0.34890243 -0.24943748\n",
      " -0.14902488 -0.05337871 -0.02505087 -0.01633211  0.         -0.01633211\n",
      " -0.03096456 -0.06080488 -0.10640252 -0.22513416 -0.36803467 -0.53159966\n",
      " -0.71231793 -0.86097395 -0.90825591 -0.86513364 -0.83788813  0.27839665\n",
      "  1.26472817  1.16975929  1.1191948  -1.15959783 -0.98678495 -0.77480441\n",
      " -0.59293822 -0.46255605 -0.35052624 -0.26106978 -0.15727247 -0.05285967\n",
      " -0.03118799  0.          0.          0.         -0.03007538 -0.05466347\n",
      " -0.11329432 -0.24592178 -0.38714114 -0.54902383 -0.7320524  -0.84983056\n",
      " -0.88850658 -0.88010331 -0.91887675  0.66309489  1.08227951  1.0404344\n",
      "  1.0564464  -1.17120158 -0.97963817 -0.77240728 -0.60145064 -0.47912533\n",
      " -0.37420481 -0.27429086 -0.16831981 -0.0606844  -0.03017452  0.\n",
      "  0.          0.         -0.0223392  -0.05614783 -0.12476486 -0.26562617\n",
      " -0.40771208 -0.5617933  -0.71871654 -0.81395304 -0.85433795 -0.8748138\n",
      "  0.21097298  1.16375804  1.04893779  1.04655841 -0.06783419 -1.09882764\n",
      " -0.94270961 -0.76543199 -0.62543492 -0.50071427 -0.38770908 -0.27907012\n",
      " -0.16954154 -0.06865387 -0.02714637  0.          0.          0.\n",
      " -0.01911478 -0.05764572 -0.14523749 -0.29229937 -0.42206727 -0.55362553\n",
      " -0.68013073 -0.76226696 -0.80286471 -0.83129346  1.40886258  1.21942292\n",
      "  1.14160485 -0.01886804 -1.10411855 -1.02301027 -0.89809076 -0.74875178\n",
      " -0.62324161 -0.50845014 -0.38848792 -0.27007826 -0.16455999 -0.07680019\n",
      " -0.03698299  0.          0.          0.         -0.0253165  -0.07158925\n",
      " -0.16836629 -0.31131213 -0.43142796 -0.54236386 -0.64196996 -0.70929577\n",
      " -0.7383428   1.66191595  1.48478683  1.3656612   1.27821641  0.09897425\n",
      " -1.02207474 -0.98144206 -0.87437567 -0.75570488 -0.61237875 -0.49455928\n",
      " -0.37083049 -0.25382327 -0.16531873 -0.087435   -0.03661391 -0.01633211\n",
      "  0.          0.         -0.0410674  -0.08988974 -0.1923567  -0.32626165\n",
      " -0.43592712 -0.53723295 -0.61971195 -0.68103987 -0.71501287  1.67904997\n",
      "  1.59800434  1.47631852  0.77245046 -1.01003137 -1.037788   -0.99195927\n",
      " -0.8860958  -0.73569565 -0.58784062 -0.46794047 -0.34645761 -0.23842557\n",
      " -0.15903061 -0.09136485 -0.02970518  0.          0.          0.\n",
      " -0.0441815  -0.09258836 -0.20826183 -0.33607113 -0.44464842 -0.55146082\n",
      " -0.63840089 -0.08851616  1.04287551  1.5840621   1.51650449  0.84573908\n",
      " -0.98676665 -1.06196077 -1.09627063 -0.99817696 -0.8687215  -0.6950326\n",
      " -0.54994239 -0.42259301 -0.31205809 -0.21998301 -0.14268998 -0.08413968\n",
      " -0.03633672 -0.01633211  0.          0.         -0.03282684 -0.10472783\n",
      " -0.20240493 -0.33001203 -0.45008341 -0.56667715 -0.67993741  1.00988072\n",
      "  1.49906353  1.40207374  1.32588115  0.1150166  -1.1197053  -1.14440673\n",
      " -1.10193192 -0.9701026  -0.78758448 -0.62033766 -0.48047988 -0.35890949\n",
      " -0.26394694 -0.1811992  -0.11384216 -0.07804384 -0.03116543 -0.01633211\n",
      "  0.          0.         -0.0220287  -0.09718321 -0.18511492 -0.29232058\n",
      " -0.42731379 -0.56101935 -0.6984198   0.34733856  1.38205799  1.27033585\n",
      "  0.61005237 -1.17768099 -1.1927278  -1.14652071 -1.02184692 -0.84829476\n",
      " -0.66088454 -0.51386048 -0.39020884 -0.28543696 -0.20106564 -0.13060392\n",
      " -0.09256476 -0.05466118 -0.01633211  0.          0.          0.\n",
      " -0.01633211 -0.07708372 -0.14553578 -0.23857333 -0.35727448 -0.48634944\n",
      "  0.01999438  1.59353372  1.36800103  1.2394936  -0.51736029 -1.1066672\n",
      " -1.08426493 -0.9797631  -0.82787619 -0.66426607 -0.51526072 -0.39811956\n",
      " -0.29737367 -0.21448961 -0.14756814 -0.08841252 -0.0610087  -0.03947738\n",
      "  0.          0.          0.          0.          0.         -0.04185377\n",
      " -0.09518724 -0.16676268 -0.25303798 -0.37618953  0.26053186  1.97894232\n",
      "  1.678059    0.89264031 -0.89884406 -0.87710132 -0.83491542 -0.74124009\n",
      " -0.62142757 -0.49328136 -0.37789998 -0.28941331 -0.2087136  -0.15567884\n",
      " -0.11055949 -0.07085462 -0.04283746 -0.01814084  0.          0.\n",
      "  0.          0.          0.         -0.02816433 -0.05001936 -0.09064363\n",
      " -0.1489659  -0.22106653 -0.30570254  2.32552379  2.69332841  0.20322941\n",
      " -0.56051475 -0.55855063 -0.52587356 -0.48003978 -0.40467228 -0.33519008\n",
      " -0.25652245 -0.18905465 -0.14030888 -0.10438232 -0.07589403 -0.04982619\n",
      " -0.01633211  0.          0.          0.          0.          0.\n",
      "  0.         -0.01633211 -0.03608852 -0.06267445 -0.08837627 -0.13012614\n",
      " -0.18467101 -0.22930418 -0.26066211 -0.28497693 -0.29486989 -0.29245183\n",
      " -0.27992052 -0.27454392 -0.24739832 -0.21164354 -0.16434762 -0.12535153\n",
      " -0.09123385 -0.05967388 -0.05310542 -0.02747505 -0.01633211 -0.01633211\n",
      "  0.          0.          0.          0.          0.          0.\n",
      " -0.01633211 -0.04001405 -0.05476202 -0.08447764 -0.11923038 -0.14097903\n",
      " -0.15564972 -0.17012531 -0.17502562 -0.16514563 -0.16619573 -0.15750826\n",
      " -0.1345575  -0.10839779 -0.08444862 -0.06398715 -0.03737556 -0.03165666\n",
      " -0.01951868 -0.01633211  0.          0.          0.          0.\n",
      "  0.          0.          0.          0.          0.          0.\n",
      "  0.         -0.01753698 -0.02702137 -0.04385152 -0.0543375  -0.0521124\n",
      " -0.05173044 -0.0535044  -0.06302513 -0.0588787  -0.05503136 -0.04118577\n",
      " -0.02055031 -0.01633211  0.         -0.01633211 -0.01633211 -0.01633211\n",
      "  0.          0.          0.          0.        ]\n"
     ]
    }
   ],
   "source": [
    "#Examine matrix values\n",
    "mnist_8x8_train_scaled = mnist_8x8_train / 255.0\n",
    "#mnist_28x28_train_scaled = mnist_28x28_train / 255.0\n",
    "scaler = StandardScaler()\n",
    "X_reshaped = np.reshape(mnist_28x28_train, (mnist_28x28_train.shape[0], -1))\n",
    "scaler.fit(X_reshaped)\n",
    "\n",
    "mnist_28x28_train_scaled = scaler.transform(X_reshaped)\n",
    "print(mnist_28x28_train_scaled[0])\n"
   ]
  },
  {
   "cell_type": "markdown",
   "metadata": {},
   "source": [
    "Feature scaling is essential for algorithms which use distances as a metric to evaluate different features. In our case, K-Nearest-Neighbours is the only one which meets this requirement, however, other models can still benefit by this, such as the Gaussian Naive Bayes classifier. "
   ]
  },
  {
   "cell_type": "markdown",
   "metadata": {},
   "source": [
    "#### Question 10 (optional):"
   ]
  },
  {
   "cell_type": "markdown",
   "metadata": {
    "nbgrader": {
     "grade": false,
     "grade_id": "cell-3174e034207dd4c8",
     "locked": true,
     "schema_version": 3,
     "solution": false,
     "task": false
    }
   },
   "source": [
    "### 4.3 Experiments"
   ]
  },
  {
   "cell_type": "markdown",
   "metadata": {
    "nbgrader": {
     "grade": false,
     "grade_id": "cell-1c16c38cbdd4bbd5",
     "locked": true,
     "points": 1,
     "schema_version": 3,
     "solution": false,
     "task": true
    }
   },
   "source": [
    "#### Question 11:"
   ]
  },
  {
   "cell_type": "code",
   "execution_count": 4,
   "metadata": {},
   "outputs": [
    {
     "data": {
      "text/plain": [
       "(1238, 784)"
      ]
     },
     "execution_count": 4,
     "metadata": {},
     "output_type": "execute_result"
    }
   ],
   "source": [
    "#Create training and test sets for each resolution\n",
    "from sklearn.model_selection import train_test_split\n",
    "X_train_8, X_test_8, y_train_8, y_test_8 = train_test_split(mnist_8x8_train_scaled, mnist_28x28_labels, test_size=0.33, random_state=42)\n",
    "X_train_28, X_test_28, y_train_28, y_test_28 = train_test_split(mnist_28x28_train_scaled, mnist_28x28_labels, test_size=0.33, random_state=42)\n",
    "#Reshape arrays\n",
    "X_train_28_reshaped = np.reshape(X_train_28, (X_train_28.shape[0], -1))\n",
    "X_test_28_reshaped = np.reshape(X_test_28, (X_test_28.shape[0], -1))\n",
    "\n",
    "X_train_28.shape\n",
    "X_test_28.shape"
   ]
  },
  {
   "cell_type": "markdown",
   "metadata": {
    "nbgrader": {
     "grade": false,
     "grade_id": "cell-aa0d4cb1aec79144",
     "locked": true,
     "points": 2,
     "schema_version": 3,
     "solution": false,
     "task": true
    }
   },
   "source": [
    "#### Question 12:"
   ]
  },
  {
   "cell_type": "code",
   "execution_count": 14,
   "metadata": {},
   "outputs": [
    {
     "name": "stdout",
     "output_type": "stream",
     "text": [
      "0.5355411954765751 0.048265933990478516 0.1361255645751953\n"
     ]
    }
   ],
   "source": [
    "#GaussianNB\n",
    "import time\n",
    "clf = GaussianNB()\n",
    "#Reshape training array\n",
    "start = time.time()\n",
    "clf.fit(X_train_28_reshaped, y_train_28)\n",
    "stop = time.time()\n",
    "inf_start =  time.time()\n",
    "score = clf.score(X_test_28_reshaped, y_test_28)\n",
    "inf_stop = time.time()\n",
    "print(score, stop-start, inf_stop - inf_start)"
   ]
  },
  {
   "cell_type": "code",
   "execution_count": 19,
   "metadata": {},
   "outputs": [
    {
     "name": "stdout",
     "output_type": "stream",
     "text": [
      "0.09612277867528271 9.585710287094116 0.03983330726623535\n"
     ]
    }
   ],
   "source": [
    "#LDA\n",
    "lda = LinearDiscriminantAnalysis(n_components = None)\n",
    "start = time.time()\n",
    "lda.fit(X_train_28_reshaped,y_train_28 )\n",
    "stop = time.time()\n",
    "inf_start =  time.time()\n",
    "score = lda.score(X_test_28_reshaped, y_test_28)\n",
    "inf_stop = time.time()\n",
    "print(score, stop-start, inf_stop - inf_start)"
   ]
  },
  {
   "cell_type": "code",
   "execution_count": 11,
   "metadata": {},
   "outputs": [
    {
     "name": "stdout",
     "output_type": "stream",
     "text": [
      "0.8796445880452343 0.008110761642456055 0.47986483573913574\n"
     ]
    }
   ],
   "source": [
    "#kNN\n",
    "nn = KNeighborsClassifier(n_neighbors = 5, weights = 'uniform', p = 2)\n",
    "start3 = time.time()\n",
    "nn.fit(X_train_28_reshaped,y_train_28 )\n",
    "stop3 = time.time()\n",
    "inf_start =  time.time()\n",
    "score = nn.score(X_test_28_reshaped, y_test_28)\n",
    "inf_stop = time.time()\n",
    "print(score, stop3-start3, inf_stop - inf_start)"
   ]
  },
  {
   "cell_type": "code",
   "execution_count": 11,
   "metadata": {},
   "outputs": [
    {
     "name": "stdout",
     "output_type": "stream",
     "text": [
      "0.8336025848142165 8.284632682800293 0.0826408863067627\n"
     ]
    }
   ],
   "source": [
    "#LR\n",
    "lg = SGDClassifier(loss = 'log', alpha = 0.0001, learning_rate = 'constant', eta0 = 0.1, penalty = \"l2\", max_iter = 1000, random_state = 42)\n",
    "start4 = time.time()\n",
    "lg.fit(X_train_28_reshaped,y_train_28 )\n",
    "stop4 = time.time()\n",
    "inf_start =  time.time()\n",
    "score = lg.score(X_test_28_reshaped, y_test_28)\n",
    "inf_stop = time.time()\n",
    "print(score, stop4-start4, inf_stop - inf_start)"
   ]
  },
  {
   "cell_type": "code",
   "execution_count": 12,
   "metadata": {},
   "outputs": [
    {
     "name": "stdout",
     "output_type": "stream",
     "text": [
      "0.901453957996769 2.3450639247894287 1.16923189163208\n"
     ]
    }
   ],
   "source": [
    "#SVMs\n",
    "sv = SVC(C = 10, kernel = 'linear', degree = 3, gamma = 'scale', random_state = 42)\n",
    "start5 = time.time()\n",
    "sv.fit(X_train_28_reshaped,y_train_28 )\n",
    "stop5 = time.time()\n",
    "inf_start =  time.time()\n",
    "score = sv.score(X_test_28_reshaped, y_test_28)\n",
    "inf_stop = time.time()\n",
    "print(score, stop5 -start5, inf_stop - inf_start)"
   ]
  },
  {
   "cell_type": "code",
   "execution_count": 13,
   "metadata": {},
   "outputs": [
    {
     "name": "stdout",
     "output_type": "stream",
     "text": [
      "0.7180936995153473 1.6131856441497803 0.003543853759765625\n"
     ]
    }
   ],
   "source": [
    "#Decision Tree\n",
    "dt = DecisionTreeClassifier(criterion = 'entropy', max_depth = None, min_samples_leaf = 2, random_state = 42)\n",
    "start6 = time.time()\n",
    "dt.fit(X_train_28_reshaped,y_train_28 )\n",
    "stop6 = time.time()\n",
    "inf_start =  time.time()\n",
    "score = dt.score(X_test_28_reshaped, y_test_28)\n",
    "inf_stop = time.time()\n",
    "print(score, stop6 -start6, inf_stop - inf_start)"
   ]
  },
  {
   "cell_type": "markdown",
   "metadata": {},
   "source": [
    "|  Classifier   |          Score         |       Training Time   |   Inference Time  |\n",
    "|------------|----------------------|----------------------|----------------------|\n",
    "| Gaussian  | 0.5355411954765751  | 0.048265933990478516  | 0.1361255645751953 |\n",
    "|  LDA  |  0.09612277867528271 | 9.585710287094116 |  0.03983330726623535 |\n",
    "| KNN |0.8796445880452343 | 0.008110761642456055 |  0.47986483573913574|\n",
    "| LG | 0.8336025848142165  |  8.284632682800293 |  0.0826408863067627  |\n",
    "| SVM | 0.901453957996769 | 2.3450639247894287 |  1.16923189163208  |\n",
    "| DT | 0.7180936995153473 |  1.6131856441497803  |  0.003543853759765625 |"
   ]
  },
  {
   "cell_type": "markdown",
   "metadata": {
    "nbgrader": {
     "grade": false,
     "grade_id": "cell-5af34b6235e07325",
     "locked": true,
     "points": 1,
     "schema_version": 3,
     "solution": false,
     "task": true
    }
   },
   "source": [
    "#### Question 13:"
   ]
  },
  {
   "cell_type": "markdown",
   "metadata": {},
   "source": [
    "Given the current parameters of the models, without any hyperparameter tuning, the model with the best accuracy was the Support Vector classifier, with an accuracy of 90%. The second most accurarate classifier was the KNN classifier, with an accuracy metric of over 87%. "
   ]
  },
  {
   "cell_type": "markdown",
   "metadata": {
    "nbgrader": {
     "grade": false,
     "grade_id": "cell-662bb47d0caa32ff",
     "locked": true,
     "points": 5,
     "schema_version": 3,
     "solution": false,
     "task": true
    }
   },
   "source": [
    "#### Question 14:"
   ]
  },
  {
   "cell_type": "code",
   "execution_count": 12,
   "metadata": {},
   "outputs": [
    {
     "name": "stdout",
     "output_type": "stream",
     "text": [
      "[[269   0   0   0   0   2   1   1   1   0]\n",
      " [  0 253   0   0   1   0   0   0   0   0]\n",
      " [  8   7 223   4   3   1   0   1   4   0]\n",
      " [  0   6   4 217   1   2   0   5   6   2]\n",
      " [  0   6   1   0 239   0   0   0   0   7]\n",
      " [  2   3   2   5   1 218   7   2   1   3]\n",
      " [  5   2   2   0   0   3 249   0   0   0]\n",
      " [  1   7   1   0   7   0   0 218   0  11]\n",
      " [  3   7   2   8   6  15   2   0 193   2]\n",
      " [  2   2   3   2   6   1   0  10   0 223]]\n",
      "\n",
      "\n",
      "[[121   0   0   0   0   0   0   0   0   0]\n",
      " [  0 122   0   0   0   0   0   0   0   0]\n",
      " [  6   5  87   5   3   0   2   3   4   1]\n",
      " [  2   1   1 127   0   1   0   0   3   0]\n",
      " [  1   7   1   0 116   0   1   0   0   9]\n",
      " [  0   2   1   5   1 108   2   0   3   0]\n",
      " [  7   2   3   0   1   1  96   0   0   0]\n",
      " [  0   3   1   1   0   0   0 107   0   9]\n",
      " [  5   4   0   5   1   9   0   2 102   0]\n",
      " [  1   0   1   1  11   1   0   9   1 103]]\n",
      "\n",
      "\n",
      "Accuracy on the test dataset: 0.8796445880452343\n",
      "Accuracy on the training dataset: 0.9164012738853503\n"
     ]
    }
   ],
   "source": [
    "#Plot confusion matrix\n",
    "cm_test = confusion_matrix(y_test_28, nn.predict(X_test_28_reshaped) , labels=[0, 1, 2, 3, 4, 5, 6, 7, 8, 9])\n",
    "cm_train = confusion_matrix(y_train_28, nn.predict(X_train_28_reshaped) , labels=[0, 1, 2, 3, 4, 5, 6, 7, 8, 9])\n",
    "print(cm_train)\n",
    "print('\\n')\n",
    "print(cm_test)\n",
    "\n",
    "print('\\n')\n",
    "# Calculate accuracy for the test dataset\n",
    "accuracy_test = (cm_test.diagonal().sum()) / cm_test.sum()\n",
    "print(\"Accuracy on the test dataset:\", accuracy_test)\n",
    "\n",
    "# Calculate accuracy for the training dataset\n",
    "accuracy_train = (cm_train.diagonal().sum()) / cm_train.sum()\n",
    "print(\"Accuracy on the training dataset:\", accuracy_train)"
   ]
  },
  {
   "cell_type": "markdown",
   "metadata": {
    "nbgrader": {
     "grade": false,
     "grade_id": "cell-6dfadec8e6364fd3",
     "locked": true,
     "points": 2,
     "schema_version": 3,
     "solution": false,
     "task": true
    }
   },
   "source": [
    "#### Question 15:"
   ]
  },
  {
   "cell_type": "markdown",
   "metadata": {},
   "source": [
    "Given both of our accuracies, and the confusion matrices, we can evaluate that our best performing model without hyper-parameter tuning is not overfitting. The accuracy on the training dataset is of about 91% and of 87% on the test dataset. Although our training accuracy is slightly better we can determine that our model is not overfitting or underfitting since the difference is not large enough, and the model performs well on both datasets. "
   ]
  },
  {
   "cell_type": "code",
   "execution_count": 14,
   "metadata": {
    "collapsed": true
   },
   "outputs": [],
   "source": [
    "# Implementation of Grid Search on KNN with cross-validation\n",
    "parameters = {'n_neighbors':[2, 3 , 4 ,5 , 6 , 7 ,8],\n",
    "             'p':[1, 2], 'weights': ('uniform', 'distance')}\n",
    "\n",
    "clf_nn = GridSearchCV(estimator = KNeighborsClassifier(), param_grid = parameters, cv = 5, scoring = 'accuracy' )\n",
    "\n",
    "clf_nn.fit(X_train_28_reshaped, y_train_28)\n",
    "results = clf_nn.cv_results_"
   ]
  },
  {
   "cell_type": "code",
   "execution_count": 16,
   "metadata": {},
   "outputs": [
    {
     "name": "stdout",
     "output_type": "stream",
     "text": [
      "[0.86481113 0.89463221 0.85884692 0.86481113 0.88667992 0.89065606\n",
      " 0.87276342 0.88071571 0.87872763 0.89662028 0.87276342 0.88667992\n",
      " 0.89264414 0.90258449 0.88866799 0.88667992 0.87872763 0.89463221\n",
      " 0.88071571 0.89662028 0.88270378 0.89264414 0.88866799 0.89662028\n",
      " 0.87276342 0.88866799 0.87673956 0.89463221]\n"
     ]
    }
   ],
   "source": [
    "# First iteration / cross-validation results\n",
    "print(results.get('split0_test_score'))"
   ]
  },
  {
   "cell_type": "code",
   "execution_count": 17,
   "metadata": {},
   "outputs": [
    {
     "name": "stdout",
     "output_type": "stream",
     "text": [
      "[0.84095427 0.85685885 0.82703777 0.85487078 0.86083499 0.86282306\n",
      " 0.84890656 0.8667992  0.87276342 0.87077535 0.86282306 0.85884692\n",
      " 0.87276342 0.87077535 0.86481113 0.86878728 0.86282306 0.86878728\n",
      " 0.85487078 0.85884692 0.86282306 0.86083499 0.8528827  0.85685885\n",
      " 0.8528827  0.86481113 0.8528827  0.85884692]\n"
     ]
    }
   ],
   "source": [
    "# Second iteration / cross-validation results\n",
    "print(results.get('split1_test_score'))"
   ]
  },
  {
   "cell_type": "code",
   "execution_count": 18,
   "metadata": {},
   "outputs": [
    {
     "name": "stdout",
     "output_type": "stream",
     "text": [
      "[0.86454183 0.88645418 0.85258964 0.87450199 0.89243028 0.89043825\n",
      " 0.87250996 0.88047809 0.87848606 0.89641434 0.85657371 0.88645418\n",
      " 0.87848606 0.88446215 0.85458167 0.8625498  0.87051793 0.88247012\n",
      " 0.86055777 0.88247012 0.8685259  0.87051793 0.86055777 0.87250996\n",
      " 0.87051793 0.88047809 0.85258964 0.87848606]\n"
     ]
    }
   ],
   "source": [
    "# Third iteration / cross-validation results\n",
    "print(results.get('split2_test_score'))"
   ]
  },
  {
   "cell_type": "code",
   "execution_count": 19,
   "metadata": {},
   "outputs": [
    {
     "name": "stdout",
     "output_type": "stream",
     "text": [
      "[0.85059761 0.88844622 0.83067729 0.85856574 0.88446215 0.89641434\n",
      " 0.85258964 0.86055777 0.87450199 0.88844622 0.86055777 0.87250996\n",
      " 0.87848606 0.88247012 0.85059761 0.85856574 0.87649402 0.89243028\n",
      " 0.84661355 0.86055777 0.87051793 0.88047809 0.8625498  0.86653386\n",
      " 0.8625498  0.88247012 0.85856574 0.87250996]\n"
     ]
    }
   ],
   "source": [
    "# Fourth iteration / cross-validation results\n",
    "print(results.get('split3_test_score'))"
   ]
  },
  {
   "cell_type": "code",
   "execution_count": 20,
   "metadata": {},
   "outputs": [
    {
     "name": "stdout",
     "output_type": "stream",
     "text": [
      "Best accuracy score and parameters \n",
      "0.8849532288341664\n",
      "{'n_neighbors': 4, 'p': 1, 'weights': 'distance'}\n",
      "\n",
      "\n",
      "Accuracy on test set\n",
      "0.901453957996769\n"
     ]
    }
   ],
   "source": [
    "#Best results and parameters\n",
    "print(\"Best accuracy score and parameters \")\n",
    "print(clf_nn.best_score_)\n",
    "print(clf_nn.best_params_)\n",
    "\n",
    "print(\"\\n\")\n",
    "print(\"Accuracy on test set\")\n",
    "print(clf_nn.score(X_test_28_reshaped, y_test_28))"
   ]
  },
  {
   "cell_type": "markdown",
   "metadata": {},
   "source": [
    "For the next cross-validations we will not include the results for each iteration for the sake of briefness since the first hyper-parameter tuning already sets an example for the procedure. "
   ]
  },
  {
   "cell_type": "code",
   "execution_count": 22,
   "metadata": {},
   "outputs": [
    {
     "name": "stdout",
     "output_type": "stream",
     "text": [
      "Best accuracy score and parameters \n",
      "0.20862316142982743\n",
      "{'n_components': 0}\n",
      "\n",
      "\n",
      "Accuracy on test set\n",
      "0.09612277867528271\n"
     ]
    }
   ],
   "source": [
    "#Hyper-parameter tuning on LDA\n",
    "parameters_lda = {'n_components': ([0, 1, 2 , 3, 4 , 5 , 6 , 7, 8])}\n",
    "clf_lda = GridSearchCV(estimator = LinearDiscriminantAnalysis(), param_grid = parameters_lda, cv = 5, scoring = 'accuracy' )\n",
    "\n",
    "clf_lda.fit(X_train_28_reshaped, y_train_28)\n",
    "#Best results and parameters\n",
    "print(\"Best accuracy score and parameters \")\n",
    "print(clf_lda.best_score_)\n",
    "print(clf_lda.best_params_)\n",
    "\n",
    "print(\"\\n\")\n",
    "print(\"Accuracy on test set\")\n",
    "print(clf_lda.score(X_test_28_reshaped, y_test_28))\n"
   ]
  },
  {
   "cell_type": "code",
   "execution_count": 24,
   "metadata": {},
   "outputs": [
    {
     "name": "stdout",
     "output_type": "stream",
     "text": [
      "Best accuracy score and parameters \n",
      "0.8320063681655089\n",
      "{'alpha': 0.0, 'eta0': 0.01, 'learning_rate': 'constant', 'loss': 'log', 'max_iter': 1000, 'penalty': 'l1', 'random_state': 42}\n",
      "\n",
      "\n",
      "Accuracy on test set\n",
      "0.8352180936995154\n"
     ]
    }
   ],
   "source": [
    "#Hyper-parameter tuning on LG SGD\n",
    "parameters_sgd = {'loss' : ['log'], 'learning_rate' : ['constant'], 'alpha':[0.0, 1.0], 'eta0': [0.01, 0.2], 'penalty': ['l1', 'l2'], 'max_iter' : [1000, 1500, 2000, 2500], 'random_state' : [42]}\n",
    "#Max iter parameter range chosen due to size of dataset\n",
    "clf_sgd = GridSearchCV(estimator = SGDClassifier(), param_grid = parameters_sgd, cv = 5, scoring = 'accuracy' )\n",
    "\n",
    "clf_sgd.fit(X_train_28_reshaped, y_train_28)\n",
    "#Best results and parameters\n",
    "print(\"Best accuracy score and parameters \")\n",
    "print(clf_sgd.best_score_)\n",
    "print(clf_sgd.best_params_)\n",
    "print(\"\\n\")\n",
    "print(\"Accuracy on test set\")\n",
    "print(clf_sgd.score(X_test_28_reshaped, y_test_28))"
   ]
  },
  {
   "cell_type": "code",
   "execution_count": 6,
   "metadata": {
    "scrolled": false
   },
   "outputs": [
    {
     "name": "stdout",
     "output_type": "stream",
     "text": [
      "Best accuracy score and parameters \n",
      "0.9064457874268335\n",
      "{'C': 5, 'degree': 2, 'gamma': 'auto', 'kernel': 'rbf', 'random_state': 42}\n",
      "\n",
      "\n",
      "Accuracy on test set\n",
      "0.9248788368336026\n"
     ]
    }
   ],
   "source": [
    "#Hyper-parameter tuning on SVC\n",
    "parameters_svc = {'C':[0.5, 1, 3, 5, 7, 10, 12, 15, 17, 20], 'kernel': ('linear', 'rbf'), 'gamma' : ('scale', 'auto'), 'degree' : [2, 3, 4], 'random_state' : [42] }\n",
    "clf_svc = GridSearchCV(estimator = SVC(), param_grid = parameters_svc, cv = 5, scoring = 'accuracy' )\n",
    "\n",
    "clf_svc.fit(X_train_28_reshaped, y_train_28)\n",
    "#Best results and parameters\n",
    "print(\"Best accuracy score and parameters \")\n",
    "print(clf_svc.best_score_)\n",
    "print(clf_svc.best_params_)\n",
    "print(\"\\n\")\n",
    "print(\"Accuracy on test set\")\n",
    "print(clf_svc.score(X_test_28_reshaped, y_test_28))"
   ]
  },
  {
   "cell_type": "code",
   "execution_count": 8,
   "metadata": {},
   "outputs": [
    {
     "name": "stdout",
     "output_type": "stream",
     "text": [
      "Best accuracy score and parameters \n",
      "0.7264975881761225\n",
      "{'max_depth': 10, 'min_samples_leaf': 4, 'random_state': 42}\n",
      "\n",
      "\n",
      "Accuracy on test set\n",
      "0.7237479806138933\n"
     ]
    }
   ],
   "source": [
    "#Hyper-parameter tuning on DecisionTreeClassifier\n",
    "parameters_dt = { 'max_depth' : [1, 2, 4, 7, 10, 12, 15],  'min_samples_leaf': [1, 2, 4, 5, 7, 9, 11, 12, 14, 17, 19, 20] , 'random_state' : [42]}\n",
    "clf_dt = GridSearchCV(estimator = DecisionTreeClassifier(), param_grid = parameters_dt, cv = 5, scoring = 'accuracy' )\n",
    "\n",
    "clf_dt.fit(X_train_28_reshaped, y_train_28)\n",
    "#Best results and parameters\n",
    "print(\"Best accuracy score and parameters \")\n",
    "print(clf_dt.best_score_)\n",
    "print(clf_dt.best_params_)\n",
    "print(\"\\n\")\n",
    "print(\"Accuracy on test set\")\n",
    "print(clf_dt.score(X_test_28_reshaped, y_test_28))"
   ]
  },
  {
   "cell_type": "markdown",
   "metadata": {
    "nbgrader": {
     "grade": false,
     "grade_id": "cell-5d128684a34fd3fb",
     "locked": true,
     "points": 2,
     "schema_version": 3,
     "solution": false,
     "task": true
    }
   },
   "source": [
    "#### Question 15 a):"
   ]
  },
  {
   "cell_type": "markdown",
   "metadata": {},
   "source": [
    "The initial values of the grid search where defined by the parameter grid given into the GridSeachCV object. "
   ]
  },
  {
   "cell_type": "markdown",
   "metadata": {
    "nbgrader": {
     "grade": false,
     "grade_id": "cell-c32bd261285cacd5",
     "locked": true,
     "points": 1,
     "schema_version": 3,
     "solution": false,
     "task": true
    }
   },
   "source": [
    "#### Question 15 b):"
   ]
  },
  {
   "cell_type": "markdown",
   "metadata": {},
   "source": [
    "The GridSearchCV object runs over all possible parameter combinations given in the parameter grid. For each combination, it performs a cross-validation, in our case with a fold of 5. "
   ]
  },
  {
   "cell_type": "markdown",
   "metadata": {},
   "source": [
    "#### Question 15 c):"
   ]
  },
  {
   "cell_type": "markdown",
   "metadata": {},
   "source": [
    "Since our models did not require a very intense grid search due to the amount of parameters, we decided to stop tuning once all possible combinations were evaluated, due to the reasonable amount of hyper-parameters. "
   ]
  },
  {
   "cell_type": "markdown",
   "metadata": {},
   "source": [
    "#### Question 15 d):"
   ]
  },
  {
   "cell_type": "markdown",
   "metadata": {},
   "source": [
    "The code is clear and simple. Each person can create their own parameter space and create a GridSearch object to evaluate the models we created. "
   ]
  },
  {
   "cell_type": "markdown",
   "metadata": {},
   "source": [
    "#### Question 16:"
   ]
  },
  {
   "cell_type": "markdown",
   "metadata": {},
   "source": [
    "Some of our models have a really small hyper-parameter space, and others have a considerably large one. For instance, LDA classifier was only tuned using 1 parameter, with 9 possible values. On the other hand, SVC has several parameters which yields a much higher number of possible combinations. Therefore, LDA and KNN were easy and fast to train and tune. Logistic Regression, SVC and Decision Tree were more complex and the time to tune and fit was considerably larger due to the nature of the classifiers."
   ]
  },
  {
   "cell_type": "markdown",
   "metadata": {},
   "source": [
    "#### Question 17:"
   ]
  },
  {
   "cell_type": "code",
   "execution_count": 9,
   "metadata": {},
   "outputs": [
    {
     "data": {
      "image/png": "[encoded data removed]",
      "text/plain": [
       "<Figure size 432x288 with 1 Axes>"
      ]
     },
     "metadata": {
      "needs_background": "light"
     },
     "output_type": "display_data"
    }
   ],
   "source": [
    "import matplotlib.pyplot as plt \n",
    "\n",
    "plt.plot([0.535541, 0.54685])\n",
    "plt.plot([0.096122, 0.096122])\n",
    "plt.plot([0.535541, 0.90145])\n",
    "plt.plot([0.83360, 0.8352])\n",
    "plt.plot([0.90145, 0.9248])\n",
    "plt.plot([0.7189014, 0.72374])\n",
    "plt.title('model accuracy on test data')\n",
    "plt.ylabel('accuracy')\n",
    "plt.legend(['Gaussian', 'LDA', 'KNN', 'LR', 'SVC', 'Decision Tree'], loc='lower right')\n",
    "plt.show()"
   ]
  },
  {
   "cell_type": "markdown",
   "metadata": {},
   "source": [
    "#### Question 18:"
   ]
  },
  {
   "cell_type": "markdown",
   "metadata": {},
   "source": [
    "Most of our algorithms did not see a notable rise in accuracy after tuning. However, KNN raised from 53% to more than 90%. SVC is still our best performing tuned algorithm, therefore we will use it to make our predictions. "
   ]
  },
  {
   "cell_type": "markdown",
   "metadata": {},
   "source": [
    "#### Question 19 (optional):"
   ]
  },
  {
   "cell_type": "markdown",
   "metadata": {},
   "source": [
    "#### Question 20:"
   ]
  },
  {
   "cell_type": "markdown",
   "metadata": {},
   "source": [
    "We will use the SVC algorithm, since it was the algorithm with the highest accuracy on unseen data (test dataset)"
   ]
  },
  {
   "cell_type": "code",
   "execution_count": 29,
   "metadata": {},
   "outputs": [
    {
     "data": {
      "text/plain": [
       "SVC(C=5, degree=2, gamma='auto', random_state=42)"
      ]
     },
     "execution_count": 29,
     "metadata": {},
     "output_type": "execute_result"
    }
   ],
   "source": [
    "#Define our model\n",
    "svc_final = SVC(C = 5, degree = 2,  kernel = 'rbf', gamma=\"auto\", random_state = 42)\n",
    "mnist_28x28_train_scaled = np.reshape(mnist_28x28_train_scaled, (mnist_28x28_train_scaled.shape[0], -1))\n",
    "svc_final.fit(mnist_28x28_train_scaled, mnist_28x28_labels)"
   ]
  },
  {
   "cell_type": "code",
   "execution_count": 30,
   "metadata": {},
   "outputs": [
    {
     "data": {
      "text/plain": [
       "array([4, 3, 1, ..., 6, 8, 5])"
      ]
     },
     "execution_count": 30,
     "metadata": {},
     "output_type": "execute_result"
    }
   ],
   "source": [
    "scaler_final = preprocessing.StandardScaler()\n",
    "X_unknown_reshaped = np.reshape(mnist_unknown, (mnist_unknown.shape[0], -1))\n",
    "scaler_final.fit(X_reshaped)\n",
    "\n",
    "X_unknown_scaled = scaler.transform(X_unknown_reshaped)\n",
    "final_predictions = svc_final.predict(X_unknown_scaled)\n",
    "final_predictions"
   ]
  },
  {
   "cell_type": "markdown",
   "metadata": {},
   "source": [
    "#### Question 21:"
   ]
  },
  {
   "cell_type": "code",
   "execution_count": 31,
   "metadata": {},
   "outputs": [
    {
     "name": "stdout",
     "output_type": "stream",
     "text": [
      "Accuracy of test set\n",
      "0.9975767366720517\n"
     ]
    }
   ],
   "source": [
    "acc_final = svc_final.score(X_test_28_reshaped, y_test_28)\n",
    "print(\"Accuracy of test set\")\n",
    "print(acc_final)"
   ]
  },
  {
   "cell_type": "markdown",
   "metadata": {},
   "source": [
    "The evolution of our models before and after hyper-parameter tuning were evaluated using the test datasets, since it gives us a good preview of generalization performance as well as a hint on how it might perform during training. Therefore, our current SVC model performs well with unseen data and hence it has a good generalization metric. "
   ]
  },
  {
   "cell_type": "markdown",
   "metadata": {},
   "source": [
    "#### Question 22:"
   ]
  },
  {
   "cell_type": "code",
   "execution_count": 32,
   "metadata": {},
   "outputs": [
    {
     "name": "stdout",
     "output_type": "stream",
     "text": [
      "[[121   0   0   0   0   0   0   0   0   0]\n",
      " [  0 122   0   0   0   0   0   0   0   0]\n",
      " [  0   0 116   0   0   0   0   0   0   0]\n",
      " [  0   0   0 135   0   0   0   0   0   0]\n",
      " [  0   0   0   0 135   0   0   0   0   0]\n",
      " [  0   0   0   0   0 122   0   0   0   0]\n",
      " [  0   0   0   0   0   0 110   0   0   0]\n",
      " [  0   1   0   0   0   0   0 120   0   0]\n",
      " [  0   0   0   0   0   1   0   0 127   0]\n",
      " [  0   0   0   0   1   0   0   0   0 127]]\n",
      "\n",
      "\n"
     ]
    }
   ],
   "source": [
    "svc_cm = confusion_matrix(y_test_28, svc_final.predict(X_test_28_reshaped) , labels=[0, 1, 2, 3, 4, 5, 6, 7, 8, 9])\n",
    "print(svc_cm)\n",
    "print('\\n')"
   ]
  },
  {
   "cell_type": "markdown",
   "metadata": {},
   "source": [
    "Since our model has a high accuracy score, we can see that most of our values are correctly classified, i.e. the values on the main diagonal. For each label, there are a few false positives and false negatives (on the top and bottom of main diagonal respectively) which represent the misclassifications of our model. "
   ]
  },
  {
   "cell_type": "markdown",
   "metadata": {},
   "source": [
    "#### Question 23:"
   ]
  },
  {
   "cell_type": "code",
   "execution_count": 33,
   "metadata": {
    "collapsed": true
   },
   "outputs": [],
   "source": [
    "# TODO Replace this with your own estimate of the accuracy\n",
    "estimate_accuracy = np.array([acc_final - 0.05]) #Take 5% due to potential overfitting\n",
    "# Reshape unknow prediction array\n",
    "prediction = np.array(final_predictions)\n",
    "\n",
    "result = np.append(estimate_accuracy, prediction)\n",
    "# Upload this file to the Vocareum autograder\n",
    "pd.DataFrame(result).to_csv(\"accuracy_estimate_and_predictions.txt\", index=False, header=False)"
   ]
  },
  {
   "cell_type": "markdown",
   "metadata": {},
   "source": [
    "Score: 35/44, acc between 92 and 94, estimated correctly"
   ]
  },
  {
   "cell_type": "markdown",
   "metadata": {
    "nbgrader": {
     "grade": false,
     "grade_id": "cell-3174e034207dd4c8",
     "locked": true,
     "schema_version": 3,
     "solution": false,
     "task": false
    }
   },
   "source": [
    "### 5 Conclusions"
   ]
  },
  {
   "cell_type": "markdown",
   "metadata": {},
   "source": [
    "#### Question 24:"
   ]
  },
  {
   "cell_type": "markdown",
   "metadata": {
    "collapsed": true
   },
   "source": [
    "1. GaussianNB: This model is really easy to train and tune since it has no hyper parameters, however, it only works under the NB assumption and when data is normally distributed. \n",
    "2. Linear Discriminant Analysis: Again, a really easy to use model, but it does not work with non-linear relationships and hence it worked poorly with the image classification task.\n",
    "3. KNN: Accuracy on test set was > 90%, which makes sense since KNN is able to map relationships between similar images due to the closeness of the coloured pixels.\n",
    "4. SGDClassifier: It works fine for image classification problems, but its training procedure can get complex due to the availability of hyperparameters. \n",
    "5. Support Vector Machines: After the hyperparameter tuning its test accuracy significantly increase, which may suggest that it needs tuning to be successful with non-linear relationships such as this one. \n",
    "6. Decision Tree: Would not be my first choice with this kind of problem due to the large amount of features (pixels) and the small difference in some of them between different classes (due to grayscale). It is also complex to train and it is easily overfitted. \n"
   ]
  }
 ],
 "metadata": {
  "celltoolbar": "Create Assignment",
  "kernelspec": {
   "display_name": "Python 3 [3.7]",
   "language": "python",
   "name": "python3"
  },
  "language_info": {
   "codemirror_mode": {
    "name": "ipython",
    "version": 3
   },
   "file_extension": ".py",
   "mimetype": "text/x-python",
   "name": "python",
   "nbconvert_exporter": "python",
   "pygments_lexer": "ipython3",
   "version": "3.7.5"
  },
  "vscode": {
   "interpreter": {
    "hash": "2469a70536e4d2335a2ea8907942d0699c37342a371ac185bdb5b0aa6f073890"
   }
  }
 },
 "nbformat": 4,
 "nbformat_minor": 4
}
